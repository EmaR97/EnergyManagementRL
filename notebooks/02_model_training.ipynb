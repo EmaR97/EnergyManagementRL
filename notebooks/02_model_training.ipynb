{
 "metadata": {
  "kernelspec": {
   "language": "python",
   "display_name": "Python 3",
   "name": "python3"
  },
  "language_info": {
   "name": "python",
   "version": "3.10.14",
   "mimetype": "text/x-python",
   "codemirror_mode": {
    "name": "ipython",
    "version": 3
   },
   "pygments_lexer": "ipython3",
   "nbconvert_exporter": "python",
   "file_extension": ".py"
  },
  "kaggle": {
   "accelerator": "none",
   "dataSources": [
    {
     "sourceId": 9719965,
     "sourceType": "datasetVersion",
     "datasetId": 5946797
    },
    {
     "sourceId": 9780596,
     "sourceType": "datasetVersion",
     "datasetId": 5960358
    }
   ],
   "dockerImageVersionId": 30787,
   "isInternetEnabled": true,
   "language": "python",
   "sourceType": "notebook",
   "isGpuEnabled": false
  }
 },
 "nbformat_minor": 4,
 "nbformat": 4,
 "cells": [
  {
   "cell_type": "code",
   "source": [
    "import logging\n",
    "import numpy as np\n",
    "import pandas as pd\n",
    "from matplotlib import pyplot as plt\n",
    "from stable_baselines3 import PPO\n",
    "from stable_baselines3.common.callbacks import EvalCallback\n",
    "from src.simulation import *\n",
    "\n",
    "logging.basicConfig(\n",
    "    level=logging.WARNING,\n",
    "    format='%(asctime)s - %(levelname)s - %(message)s'\n",
    ")"
   ],
   "metadata": {
    "execution": {
     "iopub.status.busy": "2024-11-01T15:27:09.016136Z",
     "iopub.execute_input": "2024-11-01T15:27:09.016601Z",
     "iopub.status.idle": "2024-11-01T15:27:30.755152Z",
     "shell.execute_reply.started": "2024-11-01T15:27:09.016555Z",
     "shell.execute_reply": "2024-11-01T15:27:30.753727Z"
    },
    "trusted": true
   },
   "execution_count": null,
   "outputs": []
  },
  {
   "cell_type": "code",
   "source": [
    "complete_series_csv = '../data/complete_series.csv'\n",
    "df = pd.read_csv(complete_series_csv, parse_dates=['timestamp'])\n",
    "prod_sim = EnergySim(max_step=7200, power_series=df.production_w)\n",
    "cons_sim = EnergySim(max_step=6000, power_series=df.consumption_w, energy_type=\"consumption\")\n",
    "battery_wear_rate = 0\n",
    "batt_sim = BatterySim(\n",
    "    max_charge_rate=5000,\n",
    "    max_discharge_rate=5000,\n",
    "    capacity=10000,\n",
    "    battery_wear_rate=battery_wear_rate,\n",
    "    current_charge=10000\n",
    ")\n",
    "grid_sim = GridSim(\n",
    "    feed_in_max=3500,\n",
    "    feed_in_min=0,\n",
    "    voltage_max=250,\n",
    "    voltage_min=230,\n",
    "    max_taken_from=6000,\n",
    "    energy_price_sell=.1 / 1000,\n",
    "    energy_price_buy=.8 / 1000,\n",
    "    voltage_series=df.grid_voltage\n",
    ")\n",
    "\n",
    "env = InverterEnv(\n",
    "    prod_sim=prod_sim,\n",
    "    cons_sim=cons_sim,\n",
    "    batt_sim=batt_sim,\n",
    "    grid_sim=grid_sim,\n",
    "    timestamps=df.timestamp,\n",
    "    max_steps=week,\n",
    ")"
   ],
   "metadata": {
    "execution": {
     "iopub.status.busy": "2024-11-01T15:33:43.542498Z",
     "iopub.execute_input": "2024-11-01T15:33:43.543096Z",
     "iopub.status.idle": "2024-11-01T15:33:44.202082Z",
     "shell.execute_reply.started": "2024-11-01T15:33:43.543047Z",
     "shell.execute_reply": "2024-11-01T15:33:44.200785Z"
    },
    "trusted": true
   },
   "execution_count": null,
   "outputs": []
  },
  {
   "cell_type": "code",
   "source": "def test_plot(env, steps=300, model=None):\n    state_history = []\n    obs, _ = env.reset()\n    for _ in range(steps):\n        action = 1\n        if model:\n            action, _ = model.predict(obs, deterministic=True)\n        obs, reward, done, _, _ = env.step(action)\n\n        state = list(env.state[:])\n        state = state + list(env.calc_reward())\n        state_history.append(state)\n        if done:\n            break\n    state_df = pd.DataFrame(\n        state_history,\n        columns=[\n            'production_energy',\n            'consumption_energy',\n            'battery_charged_energy',\n            'battery_discharged_energy',\n            'battery_stored_energy',\n            'grid_feed_energy',\n            'grid_taken_energy',\n            'production_energy_24_last',\n            'consumption_energy_24_last',\n            'production_energy_24_next',\n            'consumption_energy_24_next',\n            'production_energy_24_next_skip',\n            'consumption_energy_24_next_skip',\n            'timestep_sin',\n            'timestep_cos',\n            'reward',\n            'feed_in_reward',\n            'purchase_penalty',\n            'battery_wear_penalty'\n        ]\n    )\n\n    print(\n        f\"{sum(state_df.reward):.1f}=\"\n        f\"{sum(state_df.feed_in_reward):.1f}\"\n        f\"-{sum(state_df.purchase_penalty) :.1f}\"\n        f\"-{sum(state_df.battery_wear_penalty):.1f}\"\n    )\n    state_df.reward = state_df.reward * 40\n    state_df = state_df[[\n        #         'production_energy',\n        #         'consumption_energy',\n        #         'battery_charged_energy',\n        #         'battery_discharged_energy',\n        'battery_stored_energy',\n        #         'grid_feed_energy',\n        #         'grid_taken_energy',\n        #             'production_energy_24_last',\n        #             'consumption_energy_24_last',\n        'production_energy_24_next',\n        'consumption_energy_24_next',\n        'production_energy_24_next_skip',\n        'consumption_energy_24_next_skip',\n        'timestep_sin',\n        'timestep_cos',\n        'reward'\n    ]]\n    plt.figure(figsize=(12, 8))\n    for column in state_df.columns:\n        plt.plot(state_df[column], label=column)\n    plt.xlabel('Time Step')\n    plt.ylabel('State Value')\n    plt.legend()\n    plt.title('State Evolution over Time Steps')\n    plt.show()\n",
   "metadata": {
    "execution": {
     "iopub.status.busy": "2024-11-01T15:27:31.978039Z",
     "iopub.execute_input": "2024-11-01T15:27:31.978418Z",
     "iopub.status.idle": "2024-11-01T15:27:31.992109Z",
     "shell.execute_reply.started": "2024-11-01T15:27:31.978377Z",
     "shell.execute_reply": "2024-11-01T15:27:31.990963Z"
    },
    "trusted": true
   },
   "execution_count": null,
   "outputs": []
  },
  {
   "cell_type": "code",
   "source": "class ConservativeModel:\n    def predict(self, obs, *args, **kwargs):\n        action = 1\n        return action, {}\n\n\nclass GreedyModel:\n    def predict(self, obs, *args, **kwargs):\n        action = 0\n        return action, {}\n\n\nclass SimpleModel:\n    def __init__(self, lowerbound, upperbound):\n        self.lowerbound = lowerbound\n        self.upperbound = upperbound\n\n    def predict(self, obs, *args, **kwargs):\n        sin, cos = (obs[-2:] - .5) * 2\n        timestep = np.arctan2(sin, cos) / np.pi / 2 * 288\n        timestep = int(timestep if timestep > 0 else timestep + 288)\n        action = 0 if timestep > self.lowerbound and timestep < self.upperbound else 1\n        return action, {}",
   "metadata": {
    "execution": {
     "iopub.status.busy": "2024-11-01T15:27:31.993814Z",
     "iopub.execute_input": "2024-11-01T15:27:31.994211Z",
     "iopub.status.idle": "2024-11-01T15:27:32.009189Z",
     "shell.execute_reply.started": "2024-11-01T15:27:31.994171Z",
     "shell.execute_reply": "2024-11-01T15:27:32.007772Z"
    },
    "trusted": true
   },
   "execution_count": null,
   "outputs": []
  },
  {
   "cell_type": "code",
   "source": [
    "env.max_steps = full_period\n",
    "\n",
    "test_plot(\n",
    "    env,\n",
    "    full_period,\n",
    "    #     week,\n",
    "    #     GreedyModel(),\n",
    "    #     ConservativeModel(),\n",
    "    SimpleModel(60, 210),\n",
    ")"
   ],
   "metadata": {
    "execution": {
     "iopub.status.busy": "2024-11-01T15:35:16.268247Z",
     "iopub.execute_input": "2024-11-01T15:35:16.269587Z",
     "iopub.status.idle": "2024-11-01T15:35:23.920423Z",
     "shell.execute_reply.started": "2024-11-01T15:35:16.269531Z",
     "shell.execute_reply": "2024-11-01T15:35:23.918987Z"
    },
    "trusted": true
   },
   "execution_count": null,
   "outputs": []
  },
  {
   "cell_type": "code",
   "source": [
    "model = PPO.load(\n",
    "    \"/kaggle/input/ppo-inverter/ppo_inverter_best_15\",\n",
    "    #         \"/kaggle/working/logs/best_model/best_model.zip\", \n",
    "    env=env\n",
    ")\n",
    "test_plot(\n",
    "    env,\n",
    "    full_period,\n",
    "    #     week,\n",
    "    model\n",
    ")"
   ],
   "metadata": {
    "execution": {
     "iopub.status.busy": "2024-11-01T15:36:02.278233Z",
     "iopub.execute_input": "2024-11-01T15:36:02.278761Z",
     "iopub.status.idle": "2024-11-01T15:36:35.987323Z",
     "shell.execute_reply.started": "2024-11-01T15:36:02.278716Z",
     "shell.execute_reply": "2024-11-01T15:36:35.985797Z"
    },
    "trusted": true
   },
   "execution_count": null,
   "outputs": []
  },
  {
   "cell_type": "code",
   "source": "# check_env(env)\n# model = PPO(\n#     \"MlpPolicy\", \n#     env, \n#     verbose=1,\n#     ent_coef=0.01, \n#     learning_rate=0.0003, \n#     batch_size=2048,\n# )",
   "metadata": {
    "scrolled": true,
    "execution": {
     "iopub.status.busy": "2024-11-01T15:27:39.863326Z",
     "iopub.execute_input": "2024-11-01T15:27:39.863760Z",
     "iopub.status.idle": "2024-11-01T15:27:39.869309Z",
     "shell.execute_reply.started": "2024-11-01T15:27:39.863719Z",
     "shell.execute_reply": "2024-11-01T15:27:39.867851Z"
    },
    "trusted": true
   },
   "execution_count": null,
   "outputs": []
  },
  {
   "cell_type": "code",
   "source": "# model = PPO.load(\"ppo_inverter\", env=env,verbose=1)\n# env.reset()\n# model.learn(total_timesteps=1000000)\n# model.save(\"ppo_inverter\")",
   "metadata": {
    "scrolled": true,
    "execution": {
     "iopub.status.busy": "2024-11-01T15:27:39.871260Z",
     "iopub.execute_input": "2024-11-01T15:27:39.871794Z",
     "iopub.status.idle": "2024-11-01T15:27:39.884404Z",
     "shell.execute_reply.started": "2024-11-01T15:27:39.871737Z",
     "shell.execute_reply": "2024-11-01T15:27:39.882930Z"
    },
    "trusted": true
   },
   "execution_count": null,
   "outputs": []
  },
  {
   "cell_type": "code",
   "source": "# env.max_steps=10000\n# model = PPO.load(\n#     \"ppo_inverter\", \n#     env=SubprocVecEnv([lambda: env] * 20),\n#     verbose=1\n# )\n# model.learn(total_timesteps=5000000)\n# model.save(\"ppo_inverter\")",
   "metadata": {
    "scrolled": true,
    "execution": {
     "iopub.status.busy": "2024-11-01T15:27:39.886261Z",
     "iopub.execute_input": "2024-11-01T15:27:39.886729Z",
     "iopub.status.idle": "2024-11-01T15:27:39.896070Z",
     "shell.execute_reply.started": "2024-11-01T15:27:39.886683Z",
     "shell.execute_reply": "2024-11-01T15:27:39.894769Z"
    },
    "trusted": true
   },
   "execution_count": null,
   "outputs": []
  },
  {
   "cell_type": "code",
   "source": [
    "env.max_steps = full_period\n",
    "\n",
    "# multi_env=SubprocVecEnv([lambda: env] * 20)\n",
    "# train_env=multi_env\n",
    "train_env = env\n",
    "\n",
    "eval_callback = EvalCallback(\n",
    "    train_env,\n",
    "    best_model_save_path=\"./logs/best_model\",\n",
    "    log_path=\"./logs/results\",\n",
    "    eval_freq=full_period * 5,\n",
    "    deterministic=True,\n",
    "    render=False,\n",
    "    verbose=1\n",
    ")\n",
    "\n",
    "model = PPO.load(\n",
    "    \"/kaggle/input/ppo-inverter/ppo_inverter_best_15\",\n",
    "    env=train_env,\n",
    "    verbose=0\n",
    ")\n",
    "\n",
    "model.learn(\n",
    "    total_timesteps=full_period * 5 * 100,\n",
    "    callback=eval_callback\n",
    ")"
   ],
   "metadata": {
    "execution": {
     "iopub.status.busy": "2024-11-01T15:27:39.897818Z",
     "iopub.execute_input": "2024-11-01T15:27:39.898335Z",
     "iopub.status.idle": "2024-11-01T15:27:39.909097Z",
     "shell.execute_reply.started": "2024-11-01T15:27:39.898290Z",
     "shell.execute_reply": "2024-11-01T15:27:39.907643Z"
    },
    "trusted": true
   },
   "execution_count": null,
   "outputs": []
  },
  {
   "cell_type": "code",
   "source": "# model.save(\"ppo_inverter\")",
   "metadata": {
    "execution": {
     "iopub.status.busy": "2024-11-01T15:27:39.911014Z",
     "iopub.execute_input": "2024-11-01T15:27:39.911526Z",
     "iopub.status.idle": "2024-11-01T15:27:39.921215Z",
     "shell.execute_reply.started": "2024-11-01T15:27:39.911483Z",
     "shell.execute_reply": "2024-11-01T15:27:39.919385Z"
    },
    "trusted": true
   },
   "execution_count": null,
   "outputs": []
  },
  {
   "cell_type": "code",
   "source": [
    "model = PPO.load(\n",
    "    #     \"/kaggle/input/ppo-inverter/ppo_inverter_best_15\",\n",
    "    \"/kaggle/working/logs/best_model/best_model.zip\",\n",
    "    env=env\n",
    ")\n",
    "test_plot(\n",
    "    env,\n",
    "    full_period,\n",
    "    #     week,\n",
    "    model\n",
    ")"
   ],
   "metadata": {
    "execution": {
     "iopub.status.busy": "2024-11-01T15:34:20.912212Z",
     "iopub.execute_input": "2024-11-01T15:34:20.912715Z",
     "iopub.status.idle": "2024-11-01T15:34:54.939709Z",
     "shell.execute_reply.started": "2024-11-01T15:34:20.912667Z",
     "shell.execute_reply": "2024-11-01T15:34:54.938314Z"
    },
    "trusted": true
   },
   "execution_count": null,
   "outputs": []
  },
  {
   "cell_type": "code",
   "source": "# model = PPO.load(\n#     \"/kaggle/input/ppo-inverter/ppo_inverter_best_17\",\n#     #     \"./logs/best_model\", \n#     env=env\n# )\n# test_plot(\n#     env,\n#     full_period,\n#     model\n# )",
   "metadata": {
    "execution": {
     "iopub.status.busy": "2024-11-01T15:28:15.218609Z",
     "iopub.execute_input": "2024-11-01T15:28:15.219628Z",
     "iopub.status.idle": "2024-11-01T15:28:15.227261Z",
     "shell.execute_reply.started": "2024-11-01T15:28:15.219557Z",
     "shell.execute_reply": "2024-11-01T15:28:15.225561Z"
    },
    "trusted": true
   },
   "execution_count": null,
   "outputs": []
  },
  {
   "cell_type": "code",
   "source": "",
   "metadata": {},
   "execution_count": null,
   "outputs": []
  }
 ]
}
