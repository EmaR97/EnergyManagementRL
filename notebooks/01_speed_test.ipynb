{
 "cells": [
  {
   "cell_type": "code",
   "id": "initial_id",
   "metadata": {
    "collapsed": true,
    "ExecuteTime": {
     "end_time": "2024-11-06T15:18:34.036899Z",
     "start_time": "2024-11-06T15:18:33.776599Z"
    }
   },
   "source": [
    "import pandas as pd\n",
    "\n",
    "from src.simulation import EnergySim, BatterySim, GridSim, InverterSim, full_period\n",
    "from src.rl import InverterEnv\n",
    "import time\n",
    "from functools import wraps\n",
    "\n",
    "# Dictionary to store cumulative times and counts for each decorated function\n",
    "timing_data = {}\n",
    "\n",
    "\n",
    "def timed_step(class_name):\n",
    "    def decorator(func):\n",
    "        @wraps(func)\n",
    "        def wrapper(*args, **kwargs):\n",
    "            # Start timing\n",
    "            start_time = time.perf_counter()\n",
    "            result = func(*args, **kwargs)\n",
    "            end_time = time.perf_counter()\n",
    "\n",
    "            # Calculate the elapsed time\n",
    "            elapsed_time = end_time - start_time\n",
    "            func_name = f\"{class_name}.{func.__name__}\"\n",
    "\n",
    "            # Update timing data\n",
    "            if func_name not in timing_data:\n",
    "                timing_data[func_name] = {'total_time': 0.0, 'count': 0}\n",
    "            timing_data[func_name]['total_time'] += elapsed_time\n",
    "            timing_data[func_name]['count'] += 1\n",
    "\n",
    "            return result\n",
    "\n",
    "        return wrapper\n",
    "\n",
    "    return decorator\n",
    "\n",
    "\n",
    "def print_all_means():\n",
    "    \"\"\"Print the mean execution time for all decorated functions.\"\"\"\n",
    "    for func_name, data in timing_data.items():\n",
    "        mean_time = data['total_time'] / data['count']\n",
    "        print(f\"{func_name} - Mean execution time: {mean_time:.8f} seconds over {data['count']} calls.\")\n",
    "\n",
    "\n",
    "# Applying the timing decorator to the step functions\n",
    "# EnergySim.step = timed_step(\"EnergySim\")(EnergySim.step)\n",
    "# GridSim.step = timed_step(\"GridSim\")(GridSim.step)\n",
    "# BatterySim.step = timed_step(\"BatterySim\")(BatterySim.step)\n",
    "\n",
    "# InverterEnv._update_state = timed_step(\"InverterEnv\")(InverterEnv._update_state)\n",
    "# InverterEnv.calc_reward = timed_step(\"InverterEnv\")(InverterEnv.calc_reward)\n",
    "# InverterEnv._get_timestep = timed_step(\"InverterEnv\")(InverterEnv._get_timestep)\n",
    "# InverterEnv._manage_energy_mode_a = timed_step(\"InverterEnv\")(InverterEnv._manage_energy_mode_a)\n",
    "# InverterEnv._manage_energy_mode_b = timed_step(\"InverterEnv\")(InverterEnv._manage_energy_mode_b)\n",
    "InverterEnv.step = timed_step(\"InverterEnv\")(InverterEnv.step)\n"
   ],
   "outputs": [],
   "execution_count": 1
  },
  {
   "metadata": {
    "ExecuteTime": {
     "end_time": "2024-11-06T15:18:34.564903Z",
     "start_time": "2024-11-06T15:18:34.159648Z"
    }
   },
   "cell_type": "code",
   "source": [
    "# Example to test the speed of each step function\n",
    "complete_series_csv = '../data/complete_series.csv'\n",
    "df = pd.read_csv(complete_series_csv, parse_dates=['timestamp'])\n",
    "_prod_sim = EnergySim(max_step=7200, power_series=df.production_w.to_list())\n",
    "_cons_sim = EnergySim(max_step=6000, power_series=df.consumption_w.to_list(), energy_type=\"consumption\")\n",
    "_batt_sim = BatterySim(\n",
    "    max_charge_rate=5000,\n",
    "    max_discharge_rate=5000,\n",
    "    capacity=10000,\n",
    "    battery_wear_rate=0,\n",
    "    current_charge=10000\n",
    ")\n",
    "_grid_sim = GridSim(\n",
    "    feed_in_max=3500,\n",
    "    feed_in_min=0,\n",
    "    voltage_max=250,\n",
    "    voltage_min=230,\n",
    "    max_taken_from=6000,\n",
    "    energy_price_sell=0.1 / 1000,\n",
    "    energy_price_buy=2 / 1000,\n",
    "    voltage_series=df.grid_voltage.to_list()\n",
    ")\n",
    "\n",
    "_inverter_sim = InverterSim(\n",
    "    prod_sim=_prod_sim,\n",
    "    cons_sim=_cons_sim,\n",
    "    batt_sim=_batt_sim,\n",
    "    grid_sim=_grid_sim,\n",
    "    timestamps=df.timestamp.to_list(),\n",
    ")\n",
    "env = InverterEnv(_inverter_sim, full_period)\n"
   ],
   "id": "d8dd8f5874d3b636",
   "outputs": [],
   "execution_count": 2
  },
  {
   "metadata": {
    "ExecuteTime": {
     "end_time": "2024-11-06T15:18:39.811139Z",
     "start_time": "2024-11-06T15:18:34.573495Z"
    }
   },
   "cell_type": "code",
   "source": [
    "timing_data = {}\n",
    "# Run one step to measure time\n",
    "for _ in range(10):\n",
    "    state, info = env.reset()\n",
    "    action = 0  # Example action\n",
    "    for _ in range(40000):\n",
    "        next_state, reward, done, truncated, _ = env.step(action)\n",
    "print_all_means()"
   ],
   "id": "f9c3d6d18f756aaf",
   "outputs": [
    {
     "name": "stdout",
     "output_type": "stream",
     "text": [
      "InverterEnv.step - Mean execution time: 0.00001083 seconds over 400000 calls.\n"
     ]
    }
   ],
   "execution_count": 3
  },
  {
   "metadata": {
    "ExecuteTime": {
     "end_time": "2024-11-06T15:18:39.824331Z",
     "start_time": "2024-11-06T15:18:39.822513Z"
    }
   },
   "cell_type": "code",
   "source": "",
   "id": "61d20fc3f83e070b",
   "outputs": [],
   "execution_count": null
  }
 ],
 "metadata": {
  "kernelspec": {
   "display_name": "Python 3",
   "language": "python",
   "name": "python3"
  },
  "language_info": {
   "codemirror_mode": {
    "name": "ipython",
    "version": 2
   },
   "file_extension": ".py",
   "mimetype": "text/x-python",
   "name": "python",
   "nbconvert_exporter": "python",
   "pygments_lexer": "ipython2",
   "version": "2.7.6"
  }
 },
 "nbformat": 4,
 "nbformat_minor": 5
}
